{
 "cells": [
  {
   "cell_type": "code",
   "execution_count": null,
   "id": "7bb7e15e",
   "metadata": {},
   "outputs": [],
   "source": [
    "import sys\n",
    "import os\n",
    "\n",
    "ROOT_PATH = \"E:/ADS/python/ams/isaccade\"\n",
    "os.chdir(ROOT_PATH)"
   ]
  },
  {
   "cell_type": "code",
   "execution_count": null,
   "id": "a49935c0",
   "metadata": {},
   "outputs": [],
   "source": [
    "import h5py as hy\n",
    "import numpy as np\n",
    "import pandas as pd\n",
    "import scipy.io as spy\n",
    "import utils.funcs.readMatfiles as readmat"
   ]
  },
  {
   "cell_type": "code",
   "execution_count": null,
   "id": "12744d94",
   "metadata": {},
   "outputs": [],
   "source": [
    "ROOT_PATH = \"E:/ADS/python/ams/isaccade\"\n",
    "get_data  = \"data\"\n",
    "task      = \"MG\"\n",
    "recordings = \"fef\"\n",
    "analysis   = \"population\"\n",
    "subject    = \"m1\"\n",
    "\n",
    "fpath = \"/\".join([ROOT_PATH,get_data,task,recordings,analysis,subject])\n",
    "print(fpath)"
   ]
  },
  {
   "cell_type": "code",
   "execution_count": null,
   "id": "b60bf924",
   "metadata": {},
   "outputs": [],
   "source": [
    "#file = \"type/Nrn_cell_mf.mat\"\n",
    "#file = \"type/Nrn_cell_pd.mat\"\n",
    "\n",
    "#file = \"type/Nrn_cell_params.mat\"\n",
    "\n",
    "#file  = \"where/Nrn_dir_sroc.mat\"\n",
    "file = \"nFEF.mat\"\n",
    "filename = fpath+'/'+file\n",
    "filename"
   ]
  },
  {
   "cell_type": "code",
   "execution_count": null,
   "id": "cb869587",
   "metadata": {},
   "outputs": [],
   "source": [
    "data = readmat.load_data(filename)"
   ]
  },
  {
   "cell_type": "code",
   "execution_count": null,
   "id": "9c2f2f6d",
   "metadata": {},
   "outputs": [],
   "source": [
    "# No. of sessions\n",
    "var = 'mdates'\n",
    "mdates = readmat.big_Array(data[var])\n",
    "mdates = [''.join(list(map(chr,np.array(list(r[0].flat))))) for r in mdates]\n",
    "\n",
    "var = 'mfiles'\n",
    "mfiles = readmat.big_Array(data[var])\n",
    "mfiles = [''.join(list(map(chr,np.array(list(r[0].flat))))) for r in mfiles]\n",
    "\n",
    "var = 'date'\n",
    "date = readmat.big_Array(data[var])\n",
    "date = [''.join(list(map(chr,np.array(list(r[0].flat))))) for r in date]"
   ]
  },
  {
   "cell_type": "code",
   "execution_count": null,
   "id": "2360da74",
   "metadata": {},
   "outputs": [],
   "source": [
    "mfiles"
   ]
  }
 ],
 "metadata": {
  "kernelspec": {
   "display_name": "Python 3 (ipykernel)",
   "language": "python",
   "name": "python3"
  },
  "language_info": {
   "codemirror_mode": {
    "name": "ipython",
    "version": 3
   },
   "file_extension": ".py",
   "mimetype": "text/x-python",
   "name": "python",
   "nbconvert_exporter": "python",
   "pygments_lexer": "ipython3",
   "version": "3.11.4"
  }
 },
 "nbformat": 4,
 "nbformat_minor": 5
}
