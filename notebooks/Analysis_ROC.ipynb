{
 "cells": [
  {
   "cell_type": "code",
   "execution_count": 1,
   "id": "a18724be",
   "metadata": {},
   "outputs": [],
   "source": [
    "\"\"\"\n",
    "AUC curves for each neuron\n",
    "\"\"\"\n",
    "\n",
    "# Root path and directory\n",
    "import sys\n",
    "import os\n",
    "\n",
    "ROOT_PATH = \"E:/ADS/python/ams/isaccade\"\n",
    "os.chdir(ROOT_PATH)\n",
    "#sys.path.insert(0, os.path.abspath('../'))\n",
    "\n",
    "import numpy as np\n",
    "import pandas as pd\n",
    "from utils.funcs.readMatfiles import *"
   ]
  },
  {
   "cell_type": "code",
   "execution_count": 2,
   "id": "6a795ff4",
   "metadata": {},
   "outputs": [],
   "source": [
    "def roc_analysis(iRF,oRF):\n",
    "\n",
    "    iRF = iRF[np.where(iRF>0)[0]]\n",
    "    oRF = oRF[np.where(oRF>0)[0]]\n",
    "\n",
    "    thresholds = list(range(0,250,5))\n",
    "    in_spk=[]\n",
    "    out_spk=[]\n",
    "    for thresh in thresholds:\n",
    "        ispk   = np.where(iRF<=thresh)[0]\n",
    "        in_spk.append(len(ispk))\n",
    "        ospk   = np.where(oRF<=thresh)[0]\n",
    "        out_spk.append(len(ospk))\n",
    "\n",
    "    in_spk  = [x/len(iRF) for x in in_spk]\n",
    "    out_spk = [x/len(oRF) for x in out_spk]\n",
    "\n",
    "    in_spk  = [0]+in_spk+[1]\n",
    "    out_spk = [0]+out_spk+[1]\n",
    "\n",
    "    curve = [in_spk,out_spk]\n",
    "\n",
    "    return curve"
   ]
  },
  {
   "cell_type": "code",
   "execution_count": 3,
   "id": "fdfe7e16",
   "metadata": {},
   "outputs": [
    {
     "name": "stdout",
     "output_type": "stream",
     "text": [
      "E:/ADS/python/ams/isaccade/data/MG/fef/population/m1\n"
     ]
    }
   ],
   "source": [
    "# Figure for histograms\n",
    "import matplotlib.pyplot as plt\n",
    "#from utils.plots.pHIST import *\n",
    "\n",
    "# Required files\n",
    "ROOT_PATH = \"E:/ADS/python/ams/isaccade\"\n",
    "get_data  = \"data\"\n",
    "task      = \"MG\"\n",
    "recordings = \"fef\"\n",
    "analysis   = \"population\"\n",
    "subject    = \"m1\"\n",
    "\n",
    "path = \"/\".join([ROOT_PATH,get_data,task,recordings,analysis,subject])\n",
    "print(path)"
   ]
  },
  {
   "cell_type": "code",
   "execution_count": 4,
   "id": "c67bda38",
   "metadata": {},
   "outputs": [
    {
     "name": "stdout",
     "output_type": "stream",
     "text": [
      "Opening mat file v5.0 Path: E:/ADS/python/ams/isaccade/data/MG/fef/population/m1/where/Nrn_dir_sroc.mat\n"
     ]
    },
    {
     "data": {
      "text/html": [
       "<div>\n",
       "<style scoped>\n",
       "    .dataframe tbody tr th:only-of-type {\n",
       "        vertical-align: middle;\n",
       "    }\n",
       "\n",
       "    .dataframe tbody tr th {\n",
       "        vertical-align: top;\n",
       "    }\n",
       "\n",
       "    .dataframe thead th {\n",
       "        text-align: right;\n",
       "    }\n",
       "</style>\n",
       "<table border=\"1\" class=\"dataframe\">\n",
       "  <thead>\n",
       "    <tr style=\"text-align: right;\">\n",
       "      <th></th>\n",
       "      <th>Variables</th>\n",
       "      <th>Type</th>\n",
       "      <th>Fields</th>\n",
       "      <th>Dim</th>\n",
       "    </tr>\n",
       "  </thead>\n",
       "  <tbody>\n",
       "    <tr>\n",
       "      <th>0</th>\n",
       "      <td>time</td>\n",
       "      <td>ndarray</td>\n",
       "      <td>int16</td>\n",
       "      <td>(1, 1281)</td>\n",
       "    </tr>\n",
       "    <tr>\n",
       "      <th>1</th>\n",
       "      <td>raw_Mf</td>\n",
       "      <td>ndarray</td>\n",
       "      <td>object</td>\n",
       "      <td>(1, 3)</td>\n",
       "    </tr>\n",
       "    <tr>\n",
       "      <th>2</th>\n",
       "      <td>sROC_</td>\n",
       "      <td>dict</td>\n",
       "      <td>[sUnit, Bstrap, nBstrap]</td>\n",
       "      <td>3</td>\n",
       "    </tr>\n",
       "  </tbody>\n",
       "</table>\n",
       "</div>"
      ],
      "text/plain": [
       "  Variables     Type                    Fields        Dim\n",
       "0      time  ndarray                     int16  (1, 1281)\n",
       "1    raw_Mf  ndarray                    object     (1, 3)\n",
       "2     sROC_     dict  [sUnit, Bstrap, nBstrap]          3"
      ]
     },
     "metadata": {},
     "output_type": "display_data"
    }
   ],
   "source": [
    "# A. Dataset1\n",
    "fname = 'where/Nrn_dir_sroc.mat'\n",
    "fpath = path+'/'+fname\n",
    "data_dict1 = load_data(fpath)"
   ]
  },
  {
   "cell_type": "code",
   "execution_count": 5,
   "id": "b3f49f3f",
   "metadata": {},
   "outputs": [
    {
     "name": "stdout",
     "output_type": "stream",
     "text": [
      "Opening mat file v5.0 Path: E:/ADS/python/ams/isaccade/data/MG/fef/population/m1/type/Nrn_cell_mf.mat\n"
     ]
    },
    {
     "data": {
      "text/html": [
       "<div>\n",
       "<style scoped>\n",
       "    .dataframe tbody tr th:only-of-type {\n",
       "        vertical-align: middle;\n",
       "    }\n",
       "\n",
       "    .dataframe tbody tr th {\n",
       "        vertical-align: top;\n",
       "    }\n",
       "\n",
       "    .dataframe thead th {\n",
       "        text-align: right;\n",
       "    }\n",
       "</style>\n",
       "<table border=\"1\" class=\"dataframe\">\n",
       "  <thead>\n",
       "    <tr style=\"text-align: right;\">\n",
       "      <th></th>\n",
       "      <th>Variables</th>\n",
       "      <th>Type</th>\n",
       "      <th>Fields</th>\n",
       "      <th>Dim</th>\n",
       "    </tr>\n",
       "  </thead>\n",
       "  <tbody>\n",
       "    <tr>\n",
       "      <th>0</th>\n",
       "      <td>EPOCHS</td>\n",
       "      <td>ndarray</td>\n",
       "      <td>int16</td>\n",
       "      <td>(5, 2)</td>\n",
       "    </tr>\n",
       "    <tr>\n",
       "      <th>1</th>\n",
       "      <td>time</td>\n",
       "      <td>ndarray</td>\n",
       "      <td>int16</td>\n",
       "      <td>(1, 1281)</td>\n",
       "    </tr>\n",
       "    <tr>\n",
       "      <th>2</th>\n",
       "      <td>BASAL</td>\n",
       "      <td>ndarray</td>\n",
       "      <td>float64</td>\n",
       "      <td>(115, 3)</td>\n",
       "    </tr>\n",
       "    <tr>\n",
       "      <th>3</th>\n",
       "      <td>VIS</td>\n",
       "      <td>ndarray</td>\n",
       "      <td>float64</td>\n",
       "      <td>(115, 3)</td>\n",
       "    </tr>\n",
       "    <tr>\n",
       "      <th>4</th>\n",
       "      <td>PREP</td>\n",
       "      <td>ndarray</td>\n",
       "      <td>float64</td>\n",
       "      <td>(115, 3)</td>\n",
       "    </tr>\n",
       "    <tr>\n",
       "      <th>5</th>\n",
       "      <td>SACC</td>\n",
       "      <td>ndarray</td>\n",
       "      <td>float64</td>\n",
       "      <td>(115, 3)</td>\n",
       "    </tr>\n",
       "    <tr>\n",
       "      <th>6</th>\n",
       "      <td>MOD_HT</td>\n",
       "      <td>ndarray</td>\n",
       "      <td>float64</td>\n",
       "      <td>(115, 3)</td>\n",
       "    </tr>\n",
       "    <tr>\n",
       "      <th>7</th>\n",
       "      <td>MOD_MO</td>\n",
       "      <td>ndarray</td>\n",
       "      <td>float64</td>\n",
       "      <td>(115, 3)</td>\n",
       "    </tr>\n",
       "    <tr>\n",
       "      <th>8</th>\n",
       "      <td>tBASAL</td>\n",
       "      <td>ndarray</td>\n",
       "      <td>object</td>\n",
       "      <td>(2, 1)</td>\n",
       "    </tr>\n",
       "    <tr>\n",
       "      <th>9</th>\n",
       "      <td>tVIS</td>\n",
       "      <td>ndarray</td>\n",
       "      <td>object</td>\n",
       "      <td>(2, 1)</td>\n",
       "    </tr>\n",
       "    <tr>\n",
       "      <th>10</th>\n",
       "      <td>tPREP</td>\n",
       "      <td>ndarray</td>\n",
       "      <td>object</td>\n",
       "      <td>(2, 1)</td>\n",
       "    </tr>\n",
       "    <tr>\n",
       "      <th>11</th>\n",
       "      <td>tSACC</td>\n",
       "      <td>ndarray</td>\n",
       "      <td>object</td>\n",
       "      <td>(2, 1)</td>\n",
       "    </tr>\n",
       "    <tr>\n",
       "      <th>12</th>\n",
       "      <td>tMOD_HT</td>\n",
       "      <td>ndarray</td>\n",
       "      <td>object</td>\n",
       "      <td>(2, 1)</td>\n",
       "    </tr>\n",
       "    <tr>\n",
       "      <th>13</th>\n",
       "      <td>tMOD_MO</td>\n",
       "      <td>ndarray</td>\n",
       "      <td>object</td>\n",
       "      <td>(2, 1)</td>\n",
       "    </tr>\n",
       "    <tr>\n",
       "      <th>14</th>\n",
       "      <td>level</td>\n",
       "      <td>ndarray</td>\n",
       "      <td>uint8</td>\n",
       "      <td>(1, 1)</td>\n",
       "    </tr>\n",
       "    <tr>\n",
       "      <th>15</th>\n",
       "      <td>field</td>\n",
       "      <td>ndarray</td>\n",
       "      <td>int32</td>\n",
       "      <td>(115, 1)</td>\n",
       "    </tr>\n",
       "    <tr>\n",
       "      <th>16</th>\n",
       "      <td>MF</td>\n",
       "      <td>ndarray</td>\n",
       "      <td>object</td>\n",
       "      <td>(1, 3)</td>\n",
       "    </tr>\n",
       "    <tr>\n",
       "      <th>17</th>\n",
       "      <td>SPOS</td>\n",
       "      <td>ndarray</td>\n",
       "      <td>object</td>\n",
       "      <td>(1, 2)</td>\n",
       "    </tr>\n",
       "    <tr>\n",
       "      <th>18</th>\n",
       "      <td>FIRING_MF</td>\n",
       "      <td>ndarray</td>\n",
       "      <td>object</td>\n",
       "      <td>(2, 4)</td>\n",
       "    </tr>\n",
       "    <tr>\n",
       "      <th>19</th>\n",
       "      <td>HT_MF</td>\n",
       "      <td>ndarray</td>\n",
       "      <td>object</td>\n",
       "      <td>(2, 1)</td>\n",
       "    </tr>\n",
       "    <tr>\n",
       "      <th>20</th>\n",
       "      <td>RT_MF</td>\n",
       "      <td>ndarray</td>\n",
       "      <td>object</td>\n",
       "      <td>(2, 1)</td>\n",
       "    </tr>\n",
       "    <tr>\n",
       "      <th>21</th>\n",
       "      <td>AMP_MF</td>\n",
       "      <td>ndarray</td>\n",
       "      <td>object</td>\n",
       "      <td>(2, 1)</td>\n",
       "    </tr>\n",
       "    <tr>\n",
       "      <th>22</th>\n",
       "      <td>DUR_MF</td>\n",
       "      <td>ndarray</td>\n",
       "      <td>object</td>\n",
       "      <td>(2, 1)</td>\n",
       "    </tr>\n",
       "    <tr>\n",
       "      <th>23</th>\n",
       "      <td>SPEED_MF</td>\n",
       "      <td>ndarray</td>\n",
       "      <td>object</td>\n",
       "      <td>(2, 1)</td>\n",
       "    </tr>\n",
       "    <tr>\n",
       "      <th>24</th>\n",
       "      <td>Mf_activity</td>\n",
       "      <td>ndarray</td>\n",
       "      <td>object</td>\n",
       "      <td>(115, 3)</td>\n",
       "    </tr>\n",
       "    <tr>\n",
       "      <th>25</th>\n",
       "      <td>VMI_MF</td>\n",
       "      <td>ndarray</td>\n",
       "      <td>float64</td>\n",
       "      <td>(115, 3)</td>\n",
       "    </tr>\n",
       "  </tbody>\n",
       "</table>\n",
       "</div>"
      ],
      "text/plain": [
       "      Variables     Type   Fields        Dim\n",
       "0        EPOCHS  ndarray    int16     (5, 2)\n",
       "1          time  ndarray    int16  (1, 1281)\n",
       "2         BASAL  ndarray  float64   (115, 3)\n",
       "3           VIS  ndarray  float64   (115, 3)\n",
       "4          PREP  ndarray  float64   (115, 3)\n",
       "5          SACC  ndarray  float64   (115, 3)\n",
       "6        MOD_HT  ndarray  float64   (115, 3)\n",
       "7        MOD_MO  ndarray  float64   (115, 3)\n",
       "8        tBASAL  ndarray   object     (2, 1)\n",
       "9          tVIS  ndarray   object     (2, 1)\n",
       "10        tPREP  ndarray   object     (2, 1)\n",
       "11        tSACC  ndarray   object     (2, 1)\n",
       "12      tMOD_HT  ndarray   object     (2, 1)\n",
       "13      tMOD_MO  ndarray   object     (2, 1)\n",
       "14        level  ndarray    uint8     (1, 1)\n",
       "15        field  ndarray    int32   (115, 1)\n",
       "16           MF  ndarray   object     (1, 3)\n",
       "17         SPOS  ndarray   object     (1, 2)\n",
       "18    FIRING_MF  ndarray   object     (2, 4)\n",
       "19        HT_MF  ndarray   object     (2, 1)\n",
       "20        RT_MF  ndarray   object     (2, 1)\n",
       "21       AMP_MF  ndarray   object     (2, 1)\n",
       "22       DUR_MF  ndarray   object     (2, 1)\n",
       "23     SPEED_MF  ndarray   object     (2, 1)\n",
       "24  Mf_activity  ndarray   object   (115, 3)\n",
       "25       VMI_MF  ndarray  float64   (115, 3)"
      ]
     },
     "metadata": {},
     "output_type": "display_data"
    }
   ],
   "source": [
    "# B. Dataset2\n",
    "fname = 'type/Nrn_cell_mf.mat'\n",
    "fpath = path+'/'+fname\n",
    "data_dict2 = load_data(fpath)"
   ]
  },
  {
   "cell_type": "code",
   "execution_count": 6,
   "id": "64849083",
   "metadata": {},
   "outputs": [
    {
     "name": "stdout",
     "output_type": "stream",
     "text": [
      "(1281, 115)\n"
     ]
    }
   ],
   "source": [
    "sroc = data_dict1['sROC_']\n",
    "time = np.transpose(data_dict1['time'])\n",
    "print(sroc['sUnit'][0,0][0,0][0,1].shape)"
   ]
  },
  {
   "cell_type": "code",
   "execution_count": 7,
   "id": "3c294b9a",
   "metadata": {},
   "outputs": [
    {
     "name": "stdout",
     "output_type": "stream",
     "text": [
      "(115, 3)\n"
     ]
    }
   ],
   "source": [
    "# Extracting variables from dictionary\n",
    "mfTime     = np.transpose(data_dict2['time'])\n",
    "mfActivity = data_dict2['Mf_activity']\n",
    "print(mfActivity.shape)"
   ]
  },
  {
   "cell_type": "code",
   "execution_count": 8,
   "id": "919afb81",
   "metadata": {},
   "outputs": [
    {
     "name": "stdout",
     "output_type": "stream",
     "text": [
      "[[0.5 0.5 0.5 ... 0.5 0.5 0.5]\n",
      " [0.5 0.5 0.5 ... 0.5 0.5 0.5]\n",
      " [0.5 0.5 0.5 ... 0.5 0.5 0.5]\n",
      " ...\n",
      " [0.5 0.5 0.5 ... 0.5 0.5 0.5]\n",
      " [0.5 0.5 0.5 ... 0.5 0.5 0.5]\n",
      " [0.5 0.5 0.5 ... 0.5 0.5 0.5]]\n",
      "(1281, 115)\n"
     ]
    }
   ],
   "source": [
    "# ROC Graphs for different events\n",
    "tEvents,gEvents,mEvents = [0,1,2]\n",
    "Events   = [tEvents, gEvents, mEvents]\n",
    "target   = sroc['sUnit'][0,0][0,0][0,tEvents]\n",
    "go       = sroc['sUnit'][0,0][0,0][0,gEvents]\n",
    "movement = sroc['sUnit'][0,0][0,0][0,mEvents]\n",
    "print(go)\n",
    "print(go.shape)\n",
    "\n",
    "# Time bins for ROC curve\n",
    "troc = [150, -150, -25]\n",
    "tbin = np.argwhere(troc==time)\n",
    "tbin = tbin[tbin[:,1].argsort(),:]\n",
    "rMf  = data_dict1['raw_Mf']\n"
   ]
  },
  {
   "cell_type": "code",
   "execution_count": 9,
   "id": "6119edbf",
   "metadata": {},
   "outputs": [],
   "source": [
    "# Plot figure and AUC\n",
    "xevents = ['target','go','movement']\n",
    "stages = ['Visual','Computational or preparatory','Planning']\n",
    "epoch = [[50, 250],[-350,50],[-125,25]]\n",
    "AUC = [target,go,movement]\n",
    "timebins, N = AUC[gEvents].shape\n",
    "iRF, oRF = [0, 1]\n",
    "xlim = [[-250, 1250],[-1250, 750],[-1250, 250]]"
   ]
  },
  {
   "cell_type": "code",
   "execution_count": 10,
   "id": "f99c9ad2",
   "metadata": {},
   "outputs": [],
   "source": [
    "id = 14\n",
    "event = 0\n",
    "\n",
    "roc = AUC[event][:,id]\n",
    "Mf  = mfActivity[id, event]\n",
    "inRF, outRF = Mf[:, iRF], Mf[:, oRF]\n",
    "\n",
    "inSDF,outSDF = rMf[0,event][id,:]\n",
    "inSDF        = inSDF[tbin[event,0],:]\n",
    "outSDF       = outSDF[tbin[event, 0],:]\n",
    "\n",
    "roc_curve = roc_analysis(inSDF,outSDF)\n"
   ]
  },
  {
   "cell_type": "code",
   "execution_count": 11,
   "id": "d24d560c",
   "metadata": {},
   "outputs": [
    {
     "data": {
      "text/plain": [
       "<matplotlib.legend.Legend at 0x1ab8ffd0f90>"
      ]
     },
     "execution_count": 11,
     "metadata": {},
     "output_type": "execute_result"
    },
    {
     "data": {
      "image/png": "[encoded data removed]",
      "text/plain": [
       "<Figure size 640x480 with 1 Axes>"
      ]
     },
     "metadata": {},
     "output_type": "display_data"
    }
   ],
   "source": [
    "# SDF: Plotting spike density function\n",
    "\n",
    "plt.plot(mfTime,inRF,'-g',linewidth=2,label='inRF')\n",
    "plt.plot(mfTime,outRF,'-r',linewidth=2,label='outRF')\n",
    "plt.fill_between(epoch[event],[250, 250],0, facecolor=[.8, .8, .8],alpha=0.2)\n",
    "plt.vlines(0, 0, 250, linestyles='-',colors='k')\n",
    "plt.vlines(epoch[event], 0, 250, linestyles='-', colors='k',linewidth=.1)\n",
    "plt.vlines(troc[event], 0, 250, linestyles='--', colors='k')\n",
    "plt.axis(xlim[event] + [0, 225])\n",
    "plt.yticks(ticks=[0,50,100,150,200],labels=[])\n",
    "plt.xticks(ticks=range(xlim[event][0],xlim[event][1],250),labels=[])\n",
    "plt.title(stages[event]+' stage')\n",
    "plt.ylabel('Activity (sp/s)')\n",
    "plt.yticks(ticks=[0,50,100,150,200], labels=[0,50,100,150,200],fontsize=8)\n",
    "plt.xticks(range(xlim[event][0],xlim[event][1],250),labels=range(xlim[event][0],xlim[event][1],250),fontsize=8)\n",
    "plt.legend(loc='upper right', fontsize=6)"
   ]
  },
  {
   "cell_type": "code",
   "execution_count": 12,
   "id": "38005d08",
   "metadata": {},
   "outputs": [
    {
     "data": {
      "text/plain": [
       "([<matplotlib.axis.YTick at 0x1ab9003bc50>,\n",
       "  <matplotlib.axis.YTick at 0x1ab900358d0>,\n",
       "  <matplotlib.axis.YTick at 0x1ab90008990>,\n",
       "  <matplotlib.axis.YTick at 0x1ab8ffe6bd0>,\n",
       "  <matplotlib.axis.YTick at 0x1ab8ffe4b90>],\n",
       " [Text(0, 0.0, '0'),\n",
       "  Text(0, 0.25, '0.25'),\n",
       "  Text(0, 0.5, '0.5'),\n",
       "  Text(0, 0.75, '0.75'),\n",
       "  Text(0, 1.0, '1')])"
      ]
     },
     "execution_count": 12,
     "metadata": {},
     "output_type": "execute_result"
    },
    {
     "data": {
      "image/png": "[encoded data removed]",
      "text/plain": [
       "<Figure size 640x480 with 1 Axes>"
      ]
     },
     "metadata": {},
     "output_type": "display_data"
    }
   ],
   "source": [
    "# Plotting ROC curves\n",
    "\n",
    "plt.plot(time,roc,'-k',linewidth=1)\n",
    "plt.fill_between(time.ravel(),roc,0.5,facecolor=[.8, .8, .8])\n",
    "plt.vlines(0,0,1,linestyles='-',colors='k')\n",
    "plt.vlines(troc[event], 0, 250, linestyles=':', colors='b')\n",
    "plt.axis(xlim[event]+[0.25,1])\n",
    "plt.xlabel('Time from '+xevents[event]+' (in ms)')\n",
    "plt.yticks(ticks=[.25,.5,.75,1], labels=[])\n",
    "plt.xticks(range(xlim[event][0],xlim[event][1],250),labels=range(xlim[event][0],xlim[event][1],250),fontsize=8)\n",
    "plt.ylabel('AUC',fontsize=8)\n",
    "plt.yticks(ticks=[0,.25, .5, .75, 1], labels=[0,.25, .5, .75, 1],fontsize=8)"
   ]
  },
  {
   "cell_type": "code",
   "execution_count": 13,
   "id": "b97d080e",
   "metadata": {},
   "outputs": [
    {
     "data": {
      "text/plain": [
       "<matplotlib.legend.Legend at 0x1abfd3e6f90>"
      ]
     },
     "execution_count": 13,
     "metadata": {},
     "output_type": "execute_result"
    },
    {
     "data": {
      "image/png": "[encoded data removed]",
      "text/plain": [
       "<Figure size 640x480 with 1 Axes>"
      ]
     },
     "metadata": {},
     "output_type": "display_data"
    }
   ],
   "source": [
    "# ROC analysis for each time bin\n",
    "\n",
    "plt.hist(x= inSDF,bins= range(-20,240,20),color='g',label = 'iRF')\n",
    "plt.hist(x=outSDF,bins= range(-20,240,20),color='r',alpha = 0.75, label = 'oRF')\n",
    "plt.xticks(ticks=[0,50,100,150,200,250],labels=[])\n",
    "plt.yticks(ticks=[0, 15, 30, 45,60], labels=[])\n",
    "plt.axis([0,250,0,50])\n",
    "plt.xticks(ticks=[0, 100, 200], labels=[0,100,200],fontsize=4)\n",
    "plt.yticks(ticks=[0, 15, 30, 45, 60], labels=[0, 15, 30, 45, 60],fontsize=6)\n",
    "plt.xlabel('Activity (sp/s)',fontsize=6)\n",
    "plt.ylabel('Counts',fontsize=6)\n",
    "plt.legend(loc = 'upper right',fontsize=6)"
   ]
  },
  {
   "cell_type": "code",
   "execution_count": 14,
   "id": "44773219",
   "metadata": {},
   "outputs": [
    {
     "data": {
      "text/plain": [
       "Text(0.5, 0, 'iRF')"
      ]
     },
     "execution_count": 14,
     "metadata": {},
     "output_type": "execute_result"
    },
    {
     "data": {
      "image/png": "[encoded data removed]",
      "text/plain": [
       "<Figure size 640x480 with 1 Axes>"
      ]
     },
     "metadata": {},
     "output_type": "display_data"
    }
   ],
   "source": [
    "\n",
    "plt.plot([0,1],[0,1],linestyle='--',color=[.9,.9,.9])\n",
    "plt.plot(roc_curve[0],roc_curve[1],'-k',linewidth=0.5,label='ROC')\n",
    "plt.fill_between(roc_curve[0], roc_curve[1], 0, facecolor=[.8, .8, .8])\n",
    "plt.xticks(ticks=[0,.25,.50,.75,1], labels=[])\n",
    "plt.yticks(ticks=[0,.25,.50,.75,1], labels=[])\n",
    "plt.plot([0, 1], [0, 1], linestyle='--', color=[.9, .9, .9])\n",
    "plt.legend(loc='upper left', fontsize=6)\n",
    "plt.xticks(ticks=[0,.25,.5,.75,1], labels=[0,'',.50,'',1],fontsize=6)\n",
    "plt.yticks(ticks=[0,.25,.5,.75,1], labels=[0,'',.50,'',1],fontsize=6)\n",
    "plt.ylabel('oRF',fontsize=6)\n",
    "plt.xlabel('iRF',fontsize=6)"
   ]
  },
  {
   "cell_type": "code",
   "execution_count": null,
   "id": "6e93e2e7",
   "metadata": {},
   "outputs": [],
   "source": [
    "for id in range(11,N):\n",
    "\n",
    "    plt.subplots(4,6, figsize=(10,6),layout='tight')\n",
    "\n",
    "    for event in Events:\n",
    "        roc = AUC[event][:,id]\n",
    "        Mf  = mfActivity[id, event]\n",
    "        inRF, outRF = Mf[:, iRF], Mf[:, oRF]\n",
    "\n",
    "        inSDF,outSDF = rMf[0,event][id,:]\n",
    "        inSDF        = inSDF[tbin[event,0],:]\n",
    "        outSDF       = outSDF[tbin[event, 0],:]\n",
    "\n",
    "        roc_curve = roc_analysis(inSDF,outSDF)\n",
    "\n",
    "        # Plotting spike density function\n",
    "        idx = [(2*event)+x for x in (1,8)]\n",
    "        idx = tuple(idx)\n",
    "        plt.subplot(4,6,idx)\n",
    "        #plt.subplot(3, 3, 4 + event)\n",
    "        plt.plot(mfTime,inRF,'-g',linewidth=2,label='inRF')\n",
    "        plt.plot(mfTime,outRF,'-r',linewidth=2,label='outRF')\n",
    "        plt.fill_between(epoch[event],[250, 250],0, facecolor=[.8, .8, .8],alpha=0.2)\n",
    "        plt.vlines(0, 0, 250, linestyles='-',colors='k')\n",
    "        plt.vlines(epoch[event], 0, 250, linestyles='-', colors='k',linewidth=.1)\n",
    "        plt.vlines(troc[event], 0, 250, linestyles='--', colors='k')\n",
    "        plt.axis(xlim[event] + [0, 225])\n",
    "        plt.yticks(ticks=[0,50,100,150,200],labels=[])\n",
    "        plt.xticks(ticks=range(xlim[event][0],xlim[event][1],250),labels=[])\n",
    "        plt.title(stages[event]+' stage')\n",
    "\n",
    "        # Plotting ROC curves\n",
    "        idx = [(2*event) + x for x in (13,14)]\n",
    "        idx = tuple(idx)\n",
    "        plt.subplot(4,6,idx)\n",
    "        plt.plot(time,roc,'-k',linewidth=1)\n",
    "        plt.fill_between(time.ravel(),roc,0.5,facecolor=[.8, .8, .8])\n",
    "        plt.vlines(0,0,1,linestyles='-',colors='k')\n",
    "        plt.vlines(troc[event], 0, 250, linestyles=':', colors='b')\n",
    "        plt.axis(xlim[event]+[0.25,1])\n",
    "        plt.xlabel('Time from '+xevents[event]+' (in ms)')\n",
    "        plt.yticks(ticks=[.25,.5,.75,1], labels=[])\n",
    "        plt.xticks(range(xlim[event][0],xlim[event][1],250),labels=range(xlim[event][0],xlim[event][1],250),fontsize=8)\n",
    "\n",
    "        # ROC analysis for each time bin\n",
    "        plt.subplot(4,6,19+(2*event))\n",
    "        plt.hist(x= inSDF,bins= range(-20,240,20),color='g',label = 'iRF')\n",
    "        plt.hist(x=outSDF,bins= range(-20,240,20),color='r',alpha = 0.75, label = 'oRF')\n",
    "        plt.xticks(ticks=[0,50,100,150,200,250],labels=[])\n",
    "        plt.yticks(ticks=[0, 15, 30, 45,60], labels=[])\n",
    "        plt.axis([0,250,0,50])\n",
    "\n",
    "        plt.subplot(4, 6, 20 + (2 * event))\n",
    "        plt.plot([0,1],[0,1],linestyle='--',color=[.9,.9,.9])\n",
    "        plt.plot(roc_curve[0],roc_curve[1],'-k',linewidth=0.5,label='ROC')\n",
    "        plt.fill_between(roc_curve[0], roc_curve[1], 0, facecolor=[.8, .8, .8])\n",
    "        plt.xticks(ticks=[0,.25,.50,.75,1], labels=[])\n",
    "        plt.yticks(ticks=[0,.25,.50,.75,1], labels=[])\n",
    "\n",
    "    # Formatting x and y axis\n",
    "    plt.subplot(4,6,(1,8))\n",
    "    plt.ylabel('Activity (sp/s)')\n",
    "    plt.yticks(ticks=[0,50,100,150,200], labels=[0,50,100,150,200],fontsize=8)\n",
    "    plt.legend(loc='upper right', fontsize=6)\n",
    "\n",
    "    plt.subplot(4,6,(13,14))\n",
    "    plt.ylabel('AUC',fontsize=8)\n",
    "    plt.yticks(ticks=[0,.25, .5, .75, 1], labels=[0,.25, .5, .75, 1],fontsize=8)\n",
    "\n",
    "    plt.subplot(4,6,19)\n",
    "    plt.xticks(ticks=[0, 100, 200], labels=[0,100,200],fontsize=4)\n",
    "    plt.yticks(ticks=[0, 15, 30, 45, 60], labels=[0, 15, 30, 45, 60],fontsize=6)\n",
    "    plt.xlabel('Activity (sp/s)',fontsize=6)\n",
    "    plt.ylabel('Counts',fontsize=6)\n",
    "    plt.legend(loc = 'upper right',fontsize=6)\n",
    "\n",
    "    plt.subplot(4,6,20)\n",
    "    plt.plot([0, 1], [0, 1], linestyle='--', color=[.9, .9, .9])\n",
    "    plt.legend(loc='upper left', fontsize=6)\n",
    "    plt.xticks(ticks=[0,.25,.5,.75,1], labels=[0,'',.50,'',1],fontsize=6)\n",
    "    plt.yticks(ticks=[0,.25,.5,.75,1], labels=[0,'',.50,'',1],fontsize=6)\n",
    "    plt.ylabel('oRF',fontsize=6)\n",
    "    plt.xlabel('iRF',fontsize=6)\n",
    "\n",
    "    plt.suptitle('Event based analysis for neuron: '+str(id+1))\n",
    "    plt.show()\n",
    "\n",
    "    figfolder = 'results/roc_analysis/'\n",
    "    figname   = 'Neuron'+str(id+1)+'.jpg'\n",
    "    #plt.savefig(root_path+figfolder+figname)\n",
    "\n",
    "    #plt.close()\n"
   ]
  },
  {
   "cell_type": "code",
   "execution_count": null,
   "id": "83bcf464",
   "metadata": {},
   "outputs": [],
   "source": []
  }
 ],
 "metadata": {
  "kernelspec": {
   "display_name": "Python 3 (ipykernel)",
   "language": "python",
   "name": "python3"
  },
  "language_info": {
   "codemirror_mode": {
    "name": "ipython",
    "version": 3
   },
   "file_extension": ".py",
   "mimetype": "text/x-python",
   "name": "python",
   "nbconvert_exporter": "python",
   "pygments_lexer": "ipython3",
   "version": "3.11.4"
  }
 },
 "nbformat": 4,
 "nbformat_minor": 5
}
