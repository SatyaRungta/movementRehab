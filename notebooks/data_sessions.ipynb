{
 "cells": [
  {
   "cell_type": "code",
   "execution_count": null,
   "id": "8ac689ed",
   "metadata": {},
   "outputs": [],
   "source": [
    "# Root path and directory\n",
    "import sys\n",
    "import os\n",
    "\n",
    "ROOT_PATH = \"E:/ADS/python/ams/isaccade\"\n",
    "os.chdir(ROOT_PATH)"
   ]
  },
  {
   "cell_type": "code",
   "execution_count": null,
   "id": "3209e1a3",
   "metadata": {},
   "outputs": [],
   "source": [
    "# Packages\n",
    "import h5py as hy\n",
    "import numpy as np\n",
    "import pandas as pd\n",
    "import scipy.io as spy\n",
    "import utils.funcs.readMatfiles as readmat"
   ]
  },
  {
   "cell_type": "code",
   "execution_count": null,
   "id": "3a5db1c8",
   "metadata": {},
   "outputs": [],
   "source": [
    "# Folders and File path\n",
    "ROOT_PATH = \"E:/ADS/python/ams/isaccade\"\n",
    "get_data  = \"data\"\n",
    "task      = \"MG\"\n",
    "recordings = \"fef\"\n",
    "analysis   = \"sessions\"\n",
    "subject    = \"m1\"\n",
    "session_date = \"Apr26b\"\n",
    "\n",
    "fpath = \"/\".join([ROOT_PATH,get_data,task,recordings,analysis,subject,session_date])\n",
    "print(fpath)"
   ]
  },
  {
   "cell_type": "code",
   "execution_count": null,
   "id": "67dbc4c0",
   "metadata": {},
   "outputs": [],
   "source": [
    "# File details\n",
    "#file  = \"DETAILS_all.mat\"\n",
    "\n",
    "file     = \"MG_Jaggu_bkl.mat\"\n",
    "\n",
    "#file = \"Neuron.mat\"\n",
    "#file = \"Neuron_MERGED.mat\"\n",
    "\n",
    "#file = \"UNITS_all.mat\"\n",
    "\n",
    "filename = fpath+'/'+file\n",
    "filename"
   ]
  },
  {
   "cell_type": "code",
   "execution_count": null,
   "id": "d0fbf870",
   "metadata": {},
   "outputs": [],
   "source": [
    "# Reading mat file\n",
    "data = readmat.load_data(filename)"
   ]
  },
  {
   "cell_type": "code",
   "execution_count": null,
   "id": "6891ee10",
   "metadata": {},
   "outputs": [],
   "source": [
    "# A. Event marker for each trial (Tempo Reflecting  system)\n",
    "Events_per_trial = ['EmStart_','Bot_','FixSpotOn_','Trigger_','Target_','FixSpotOff_','Correct_','Reward_','Abort_','Eot_']\n",
    "\n",
    "readmat.show_info(data['Events'])\n",
    "Events = readmat.dict2array(data['Events'])\n",
    "Events[Events_per_trial]"
   ]
  },
  {
   "cell_type": "code",
   "execution_count": null,
   "id": "34d01d2a",
   "metadata": {},
   "outputs": [],
   "source": [
    "# B. Event timings (From BOT)\n",
    "Events_per_trial = ['Fix_on_','Trig_','Target_','Go_','Trigger_']\n",
    "\n",
    "readmat.show_info(data['Timings_'])\n",
    "result = readmat.dict2array(data['Timings_'])\n",
    "result[Events_per_trial]\n",
    "\n",
    "# Fix_on_ = FixateOn - Bot\n",
    "# Trig_   = Trigger - Bot\n",
    "# Target_ = Target - Bot\n",
    "# Go_     = FixateOff - Bot\n",
    "\n",
    "# Trigger_ = Trig_*[sampling rate (Blackrock)]/[sampling rate (Tempo)] (verify..)"
   ]
  },
  {
   "cell_type": "code",
   "execution_count": null,
   "id": "c2f750ac",
   "metadata": {},
   "outputs": [],
   "source": [
    "#(result['Trigger_']/result['Trig_'])/1.041\n",
    "\n",
    "a = result['Go_']-result['Target_']"
   ]
  },
  {
   "cell_type": "code",
   "execution_count": null,
   "id": "4ebf3f83",
   "metadata": {},
   "outputs": [],
   "source": [
    "# C. Trials Info\n",
    "ht     = data['Trialinfo_']['ht']\n",
    "pos    = data['Trialinfo_']['pos']\n",
    "result = data['Trialinfo_']['result']\n",
    "\n",
    "readmat.show_info(data['Trialinfo_'])\n",
    "trial_info = readmat.dict2array(data['Trialinfo_'])\n",
    "display(trial_info)\n",
    "a-trial_info['ht']"
   ]
  },
  {
   "cell_type": "code",
   "execution_count": null,
   "id": "d35526c4",
   "metadata": {},
   "outputs": [],
   "source": [
    "# D. Trial Results\n",
    "readmat.show_info(data['Result'])\n",
    "result = readmat.dict2array(data['Result'])"
   ]
  },
  {
   "cell_type": "code",
   "execution_count": null,
   "id": "b113b311",
   "metadata": {},
   "outputs": [],
   "source": [
    "# E. Eye movements and traces\n",
    "readmat.show_info(data['Eye_'])"
   ]
  },
  {
   "cell_type": "code",
   "execution_count": null,
   "id": "388ff5f4",
   "metadata": {},
   "outputs": [],
   "source": [
    "x=data['Eye_']['NormX_']\n",
    "y=data['Eye_']['NormY_']\n",
    "\n",
    "onsets = data['Eye_']['Saccade_']/4"
   ]
  },
  {
   "cell_type": "code",
   "execution_count": null,
   "id": "70390121",
   "metadata": {},
   "outputs": [],
   "source": [
    "import matplotlib.pyplot as plt\n",
    "\n",
    "trial_no = 10\n",
    "\n",
    "vl = Events['FixSpotOff_'][trial_no]/4\n",
    "print(vl)\n",
    "\n",
    "\n",
    "plt.plot(y[trial_no,:],'-k')\n",
    "plt.plot(x[trial_no,:],'-r')\n",
    "plt.axvline(x=vl)"
   ]
  },
  {
   "cell_type": "code",
   "execution_count": null,
   "id": "aee9cb23",
   "metadata": {},
   "outputs": [],
   "source": [
    "\"\"\"\n",
    "## Animation for gif\n",
    "\n",
    "from PIL import Image\n",
    "\n",
    "# Take list of paths for images\n",
    "image_path_list = ['dog-1.jpg', 'dog-2.jpg', 'dog-3.jpg']\n",
    "\n",
    "# Create a list of image objects\n",
    "image_list = [Image.open(file) for file in image_path_list]\n",
    "\n",
    "# Save the first image as a GIF file\n",
    "image_list[0].save(\n",
    "            'animation.gif',\n",
    "            save_all=True,\n",
    "            append_images=image_list[1:], # append rest of the images\n",
    "            duration=1000, # in milliseconds\n",
    "            loop=0)\n",
    "\n",
    "\"\"\"\n"
   ]
  },
  {
   "cell_type": "code",
   "execution_count": null,
   "id": "5934b5cd",
   "metadata": {},
   "outputs": [],
   "source": [
    "\"\"\"\n",
    "# importing matplot lib\n",
    "import matplotlib.pyplot as plt\n",
    "import numpy as np\n",
    "\n",
    "# importing movie py libraries\n",
    "from moviepy.editor import VideoClip\n",
    "from moviepy.video.io.bindings import mplfig_to_npimage\n",
    "\n",
    "# numpy array\n",
    "x = np.linspace(-2, 2, 200)\n",
    "\n",
    "# duration of the video\n",
    "duration = 2\n",
    "\n",
    "# matplot subplot\n",
    "fig, ax = plt.subplots()\n",
    "\n",
    "# method to get frames\n",
    "def make_frame(t):\n",
    "\t\n",
    "\t# clear\n",
    "\tax.clear()\n",
    "\t\n",
    "\t# plotting line\n",
    "\tax.plot(x, np.sinc(x**2) + np.sin(x + 2 * np.pi / duration * t), lw = 3)\n",
    "\tax.set_ylim(-1.5, 2.5)\n",
    "\t\n",
    "\t# returning numpy image\n",
    "\treturn mplfig_to_npimage(fig)\n",
    "\n",
    "# creating animation\n",
    "animation = VideoClip(make_frame, duration = duration)\n",
    "\n",
    "# displaying animation with auto play and looping\n",
    "animation.ipython_display(fps = 20, loop = True, autoplay = True)\n",
    "\n",
    "\"\"\""
   ]
  },
  {
   "cell_type": "code",
   "execution_count": null,
   "id": "6776b8e1",
   "metadata": {},
   "outputs": [],
   "source": []
  }
 ],
 "metadata": {
  "kernelspec": {
   "display_name": "Python 3 (ipykernel)",
   "language": "python",
   "name": "python3"
  },
  "language_info": {
   "codemirror_mode": {
    "name": "ipython",
    "version": 3
   },
   "file_extension": ".py",
   "mimetype": "text/x-python",
   "name": "python",
   "nbconvert_exporter": "python",
   "pygments_lexer": "ipython3",
   "version": "3.11.4"
  }
 },
 "nbformat": 4,
 "nbformat_minor": 5
}
